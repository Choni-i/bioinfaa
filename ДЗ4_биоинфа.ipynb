{
  "nbformat": 4,
  "nbformat_minor": 0,
  "metadata": {
    "colab": {
      "provenance": [],
      "authorship_tag": "ABX9TyOUGq9ffKATw30fVBQilRfn",
      "include_colab_link": true
    },
    "kernelspec": {
      "name": "ir",
      "display_name": "R"
    },
    "language_info": {
      "name": "R"
    }
  },
  "cells": [
    {
      "cell_type": "markdown",
      "metadata": {
        "id": "view-in-github",
        "colab_type": "text"
      },
      "source": [
        "<a href=\"https://colab.research.google.com/github/Choni-i/bioinfaa/blob/main/%D0%94%D0%974_%D0%B1%D0%B8%D0%BE%D0%B8%D0%BD%D1%84%D0%B0.ipynb\" target=\"_parent\"><img src=\"https://colab.research.google.com/assets/colab-badge.svg\" alt=\"Open In Colab\"/></a>"
      ]
    },
    {
      "cell_type": "code",
      "execution_count": 12,
      "metadata": {
        "id": "fmBzeRu-JH8t"
      },
      "outputs": [],
      "source": [
        "knitr::opts_chunk$set(echo = TRUE)"
      ]
    },
    {
      "cell_type": "code",
      "source": [
        "install.packages(\"readr\")\n",
        "install.packages(\"ggplot2\")\n",
        "install.packages(\"dplyr\")\n",
        "install.packages(\"gwascat\")\n",
        "install.packages(\"stringr\")\n",
        "install.packages(\"kableExtra\")\n",
        "install.packages(\"tidystringdist\")\n",
        "install.packages(\"tidyverse\")"
      ],
      "metadata": {
        "colab": {
          "base_uri": "https://localhost:8080/"
        },
        "id": "iyQVL-gFJVA9",
        "outputId": "d8a1c716-d80b-4e6a-e4ea-7c70887616d8"
      },
      "execution_count": 13,
      "outputs": [
        {
          "output_type": "stream",
          "name": "stderr",
          "text": [
            "Installing package into ‘/usr/local/lib/R/site-library’\n",
            "(as ‘lib’ is unspecified)\n",
            "\n",
            "Installing package into ‘/usr/local/lib/R/site-library’\n",
            "(as ‘lib’ is unspecified)\n",
            "\n",
            "Installing package into ‘/usr/local/lib/R/site-library’\n",
            "(as ‘lib’ is unspecified)\n",
            "\n",
            "Installing package into ‘/usr/local/lib/R/site-library’\n",
            "(as ‘lib’ is unspecified)\n",
            "\n",
            "Warning message:\n",
            "“package ‘gwascat’ is not available for this version of R\n",
            "\n",
            "A version of this package for your version of R might be available elsewhere,\n",
            "see the ideas at\n",
            "https://cran.r-project.org/doc/manuals/r-patched/R-admin.html#Installing-packages”\n",
            "Installing package into ‘/usr/local/lib/R/site-library’\n",
            "(as ‘lib’ is unspecified)\n",
            "\n",
            "Installing package into ‘/usr/local/lib/R/site-library’\n",
            "(as ‘lib’ is unspecified)\n",
            "\n",
            "Installing package into ‘/usr/local/lib/R/site-library’\n",
            "(as ‘lib’ is unspecified)\n",
            "\n",
            "Installing package into ‘/usr/local/lib/R/site-library’\n",
            "(as ‘lib’ is unspecified)\n",
            "\n",
            "also installing the dependencies ‘textshaping’, ‘ragg’\n",
            "\n",
            "\n",
            "Warning message in install.packages(\"tidyverse\"):\n",
            "“installation of package ‘textshaping’ had non-zero exit status”\n",
            "Warning message in install.packages(\"tidyverse\"):\n",
            "“installation of package ‘ragg’ had non-zero exit status”\n",
            "Warning message in install.packages(\"tidyverse\"):\n",
            "“installation of package ‘tidyverse’ had non-zero exit status”\n"
          ]
        }
      ]
    },
    {
      "cell_type": "code",
      "source": [
        "install.packages(\"readr\")"
      ],
      "metadata": {
        "colab": {
          "base_uri": "https://localhost:8080/"
        },
        "id": "9-KmPtJwMAk2",
        "outputId": "901755bc-69e7-4209-ae15-1ed5f04a03f8"
      },
      "execution_count": 14,
      "outputs": [
        {
          "output_type": "stream",
          "name": "stderr",
          "text": [
            "Installing package into ‘/usr/local/lib/R/site-library’\n",
            "(as ‘lib’ is unspecified)\n",
            "\n"
          ]
        }
      ]
    },
    {
      "cell_type": "code",
      "source": [
        "genome_raw <- read.table(\"11525.ftdna-illumina.9417\", header=TRUE , sep=',')"
      ],
      "metadata": {
        "colab": {
          "base_uri": "https://localhost:8080/",
          "height": 148
        },
        "id": "dSalysnWO1CB",
        "outputId": "35451172-6012-4e03-9376-06f38ff74ab8"
      },
      "execution_count": 16,
      "outputs": [
        {
          "output_type": "error",
          "ename": "ERROR",
          "evalue": "ignored",
          "traceback": [
            "Error in read.table(\"11525.ftdna-illumina.9417\", header = TRUE, sep = \",\"): more columns than column names\nTraceback:\n",
            "1. read.table(\"11525.ftdna-illumina.9417\", header = TRUE, sep = \",\")",
            "2. stop(\"more columns than column names\")"
          ]
        }
      ]
    },
    {
      "cell_type": "code",
      "source": [
        "dplyr::filter(genome_raw, grepl('\\\\brs12913832\\\\b|\\\\brs1800407\\\\b|\\\\brs12896399\\\\b|\\\\brs16891982\\\\b|\\\\brs1393350\\\\b|\\\\brs12203592\\\\b', RSID))"
      ],
      "metadata": {
        "colab": {
          "base_uri": "https://localhost:8080/",
          "height": 286
        },
        "id": "OH4qOP9oO1HB",
        "outputId": "79125cd4-be6a-4f7b-8614-0a75cd9e7eeb"
      },
      "execution_count": 15,
      "outputs": [
        {
          "output_type": "display_data",
          "data": {
            "text/html": [
              "<table class=\"dataframe\">\n",
              "<caption>A data.frame: 6 × 4</caption>\n",
              "<thead>\n",
              "\t<tr><th scope=col>RSID</th><th scope=col>CHROMOSOME</th><th scope=col>POSITION</th><th scope=col>RESULT</th></tr>\n",
              "\t<tr><th scope=col>&lt;chr&gt;</th><th scope=col>&lt;chr&gt;</th><th scope=col>&lt;int&gt;</th><th scope=col>&lt;chr&gt;</th></tr>\n",
              "</thead>\n",
              "<tbody>\n",
              "\t<tr><td>rs16891982</td><td>5 </td><td>33951693</td><td>GG</td></tr>\n",
              "\t<tr><td>rs12203592</td><td>6 </td><td>  396321</td><td>CC</td></tr>\n",
              "\t<tr><td>rs1393350 </td><td>11</td><td>89011046</td><td>GG</td></tr>\n",
              "\t<tr><td>rs12896399</td><td>14</td><td>92773663</td><td>GG</td></tr>\n",
              "\t<tr><td>rs1800407 </td><td>15</td><td>28230318</td><td>CC</td></tr>\n",
              "\t<tr><td>rs12913832</td><td>15</td><td>28365618</td><td>GG</td></tr>\n",
              "</tbody>\n",
              "</table>\n"
            ],
            "text/markdown": "\nA data.frame: 6 × 4\n\n| RSID &lt;chr&gt; | CHROMOSOME &lt;chr&gt; | POSITION &lt;int&gt; | RESULT &lt;chr&gt; |\n|---|---|---|---|\n| rs16891982 | 5  | 33951693 | GG |\n| rs12203592 | 6  |   396321 | CC |\n| rs1393350  | 11 | 89011046 | GG |\n| rs12896399 | 14 | 92773663 | GG |\n| rs1800407  | 15 | 28230318 | CC |\n| rs12913832 | 15 | 28365618 | GG |\n\n",
            "text/latex": "A data.frame: 6 × 4\n\\begin{tabular}{llll}\n RSID & CHROMOSOME & POSITION & RESULT\\\\\n <chr> & <chr> & <int> & <chr>\\\\\n\\hline\n\t rs16891982 & 5  & 33951693 & GG\\\\\n\t rs12203592 & 6  &   396321 & CC\\\\\n\t rs1393350  & 11 & 89011046 & GG\\\\\n\t rs12896399 & 14 & 92773663 & GG\\\\\n\t rs1800407  & 15 & 28230318 & CC\\\\\n\t rs12913832 & 15 & 28365618 & GG\\\\\n\\end{tabular}\n",
            "text/plain": [
              "  RSID       CHROMOSOME POSITION RESULT\n",
              "1 rs16891982 5          33951693 GG    \n",
              "2 rs12203592 6            396321 CC    \n",
              "3 rs1393350  11         89011046 GG    \n",
              "4 rs12896399 14         92773663 GG    \n",
              "5 rs1800407  15         28230318 CC    \n",
              "6 rs12913832 15         28365618 GG    "
            ]
          },
          "metadata": {}
        }
      ]
    },
    {
      "cell_type": "code",
      "source": [
        "dplyr::filter(genome_raw, grepl('\\\\brs6025\\\\b|\\\\brs1799963\\\\b|\\\\brs8176719\\\\b|\\\\brs2066865\\\\b|\\\\brs2036914\\\\b', RSID))"
      ],
      "metadata": {
        "colab": {
          "base_uri": "https://localhost:8080/",
          "height": 223
        },
        "id": "af4N1L3MX6L6",
        "outputId": "66d75471-ff50-4e0d-fb35-2ddcd67ff87f"
      },
      "execution_count": 16,
      "outputs": [
        {
          "output_type": "display_data",
          "data": {
            "text/html": [
              "<table class=\"dataframe\">\n",
              "<caption>A data.frame: 4 × 4</caption>\n",
              "<thead>\n",
              "\t<tr><th scope=col>RSID</th><th scope=col>CHROMOSOME</th><th scope=col>POSITION</th><th scope=col>RESULT</th></tr>\n",
              "\t<tr><th scope=col>&lt;chr&gt;</th><th scope=col>&lt;chr&gt;</th><th scope=col>&lt;int&gt;</th><th scope=col>&lt;chr&gt;</th></tr>\n",
              "</thead>\n",
              "<tbody>\n",
              "\t<tr><td>rs6025   </td><td>1 </td><td>169519049</td><td>CC</td></tr>\n",
              "\t<tr><td>rs2066865</td><td>4 </td><td>155525276</td><td>GG</td></tr>\n",
              "\t<tr><td>rs2036914</td><td>4 </td><td>187192481</td><td>CT</td></tr>\n",
              "\t<tr><td>rs1799963</td><td>11</td><td> 46761055</td><td>GG</td></tr>\n",
              "</tbody>\n",
              "</table>\n"
            ],
            "text/markdown": "\nA data.frame: 4 × 4\n\n| RSID &lt;chr&gt; | CHROMOSOME &lt;chr&gt; | POSITION &lt;int&gt; | RESULT &lt;chr&gt; |\n|---|---|---|---|\n| rs6025    | 1  | 169519049 | CC |\n| rs2066865 | 4  | 155525276 | GG |\n| rs2036914 | 4  | 187192481 | CT |\n| rs1799963 | 11 |  46761055 | GG |\n\n",
            "text/latex": "A data.frame: 4 × 4\n\\begin{tabular}{llll}\n RSID & CHROMOSOME & POSITION & RESULT\\\\\n <chr> & <chr> & <int> & <chr>\\\\\n\\hline\n\t rs6025    & 1  & 169519049 & CC\\\\\n\t rs2066865 & 4  & 155525276 & GG\\\\\n\t rs2036914 & 4  & 187192481 & CT\\\\\n\t rs1799963 & 11 &  46761055 & GG\\\\\n\\end{tabular}\n",
            "text/plain": [
              "  RSID      CHROMOSOME POSITION  RESULT\n",
              "1 rs6025    1          169519049 CC    \n",
              "2 rs2066865 4          155525276 GG    \n",
              "3 rs2036914 4          187192481 CT    \n",
              "4 rs1799963 11          46761055 GG    "
            ]
          },
          "metadata": {}
        }
      ]
    },
    {
      "cell_type": "code",
      "source": [
        "dplyr::filter(genome_raw, grepl('\\\\brs1333049\\\\b|\\\\brs1805007\\\\b|\\\\brs6152\\\\b', RSID))"
      ],
      "metadata": {
        "colab": {
          "base_uri": "https://localhost:8080/",
          "height": 148
        },
        "id": "O-WYr2AqEUNb",
        "outputId": "2672c741-279f-40b6-f656-8d85f9bd67cd"
      },
      "execution_count": 1,
      "outputs": [
        {
          "output_type": "error",
          "ename": "ERROR",
          "evalue": "ignored",
          "traceback": [
            "Error in dplyr::filter(genome_raw, grepl(\"\\\\brs1333049\\\\b|\\\\brs1805007\\\\b|\\\\brs6152\\\\b\", : object 'genome_raw' not found\nTraceback:\n",
            "1. dplyr::filter(genome_raw, grepl(\"\\\\brs1333049\\\\b|\\\\brs1805007\\\\b|\\\\brs6152\\\\b\", \n .     RSID))"
          ]
        }
      ]
    }
  ]
}